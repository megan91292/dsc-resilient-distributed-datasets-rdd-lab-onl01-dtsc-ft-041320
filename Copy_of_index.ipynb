{
  "nbformat": 4,
  "nbformat_minor": 0,
  "metadata": {
    "kernelspec": {
      "display_name": "Python 3",
      "language": "python",
      "name": "python3"
    },
    "language_info": {
      "codemirror_mode": {
        "name": "ipython",
        "version": 3
      },
      "file_extension": ".py",
      "mimetype": "text/x-python",
      "name": "python",
      "nbconvert_exporter": "python",
      "pygments_lexer": "ipython3",
      "version": "3.7.3"
    },
    "colab": {
      "name": "Copy of index.ipynb",
      "provenance": [],
      "collapsed_sections": [],
      "include_colab_link": true
    }
  },
  "cells": [
    {
      "cell_type": "markdown",
      "metadata": {
        "id": "view-in-github",
        "colab_type": "text"
      },
      "source": [
        "<a href=\"https://colab.research.google.com/github/megan91292/dsc-resilient-distributed-datasets-rdd-lab-onl01-dtsc-ft-041320/blob/master/Copy_of_index.ipynb\" target=\"_parent\"><img src=\"https://colab.research.google.com/assets/colab-badge.svg\" alt=\"Open In Colab\"/></a>"
      ]
    },
    {
      "cell_type": "code",
      "metadata": {
        "id": "2UQWTqkjV8Zs",
        "colab_type": "code",
        "colab": {}
      },
      "source": [
        "!apt-get install openjdk-8-jdk-headless -qq > /dev/null\n",
        "!wget -q https://archive.apache.org/dist/spark/spark-2.4.5/spark-2.4.5-bin-hadoop2.7.tgz\n",
        "!tar xf spark-2.4.5-bin-hadoop2.7.tgz\n",
        "!pip install -q findspark\n",
        "\n",
        "\n",
        "\n",
        "\n",
        "\n"
      ],
      "execution_count": 8,
      "outputs": []
    },
    {
      "cell_type": "code",
      "metadata": {
        "id": "-ilGVxeP_8D9",
        "colab_type": "code",
        "colab": {
          "base_uri": "https://localhost:8080/",
          "height": 51
        },
        "outputId": "8677d339-653e-4335-cea8-c6cc53ec38ea"
      },
      "source": [
        "!pip install pyspark==2.4.5"
      ],
      "execution_count": 9,
      "outputs": [
        {
          "output_type": "stream",
          "text": [
            "Requirement already satisfied: pyspark==2.4.5 in /usr/local/lib/python3.6/dist-packages (2.4.5)\n",
            "Requirement already satisfied: py4j==0.10.7 in /usr/local/lib/python3.6/dist-packages (from pyspark==2.4.5) (0.10.7)\n"
          ],
          "name": "stdout"
        }
      ]
    },
    {
      "cell_type": "code",
      "metadata": {
        "id": "TuLdS0-g_8GM",
        "colab_type": "code",
        "colab": {
          "base_uri": "https://localhost:8080/",
          "height": 35
        },
        "outputId": "6cebf72a-1e25-4f7a-ab52-966820541e25"
      },
      "source": [
        "import pyspark\n",
        "pyspark.__version__\n"
      ],
      "execution_count": 10,
      "outputs": [
        {
          "output_type": "execute_result",
          "data": {
            "application/vnd.google.colaboratory.intrinsic": {
              "type": "string"
            },
            "text/plain": [
              "'2.4.5'"
            ]
          },
          "metadata": {
            "tags": []
          },
          "execution_count": 10
        }
      ]
    },
    {
      "cell_type": "code",
      "metadata": {
        "id": "AriqZy9L_8Ix",
        "colab_type": "code",
        "colab": {}
      },
      "source": [
        "import os\n",
        "# /usr/lib/jvm/java-8-openjdk-amd64\n",
        "os.environ[\"JAVA_HOME\"] = \"/usr/lib/jvm/java-8-openjdk-amd64\"\n",
        "# /content/spark-2.4.5-bin-hadoop2.7\n",
        "os.environ[\"SPARK_HOME\"] = \"/content/spark-2.4.5-bin-hadoop2.7\"\n"
      ],
      "execution_count": 11,
      "outputs": []
    },
    {
      "cell_type": "code",
      "metadata": {
        "id": "DBU6jhvv_-jn",
        "colab_type": "code",
        "colab": {}
      },
      "source": [
        "import findspark\n",
        "findspark.init()"
      ],
      "execution_count": 12,
      "outputs": []
    },
    {
      "cell_type": "code",
      "metadata": {
        "id": "sQKib6VRV9PL",
        "colab_type": "code",
        "colab": {
          "base_uri": "https://localhost:8080/",
          "height": 35
        },
        "outputId": "ee19fe6b-bd48-4ff0-dee4-57f85723ef1c"
      },
      "source": [
        "pyspark.__version__\n"
      ],
      "execution_count": 13,
      "outputs": [
        {
          "output_type": "execute_result",
          "data": {
            "application/vnd.google.colaboratory.intrinsic": {
              "type": "string"
            },
            "text/plain": [
              "'2.4.5'"
            ]
          },
          "metadata": {
            "tags": []
          },
          "execution_count": 13
        }
      ]
    },
    {
      "cell_type": "code",
      "metadata": {
        "id": "Favhh43s_7q-",
        "colab_type": "code",
        "colab": {}
      },
      "source": [
        ""
      ],
      "execution_count": null,
      "outputs": []
    },
    {
      "cell_type": "code",
      "metadata": {
        "id": "TdfCfvShV9Rd",
        "colab_type": "code",
        "colab": {}
      },
      "source": [
        "import findspark\n",
        "findspark.init()"
      ],
      "execution_count": 4,
      "outputs": []
    },
    {
      "cell_type": "code",
      "metadata": {
        "id": "Sep_bYiLV9TM",
        "colab_type": "code",
        "colab": {}
      },
      "source": [
        ""
      ],
      "execution_count": null,
      "outputs": []
    },
    {
      "cell_type": "markdown",
      "metadata": {
        "id": "3wkodHy_UNnk",
        "colab_type": "text"
      },
      "source": [
        "## Resilient Distributed Datasets (RDDs) - Lab\n",
        "\n",
        "Resilient Distributed Datasets (RDD) are fundamental data structures of Spark. An RDD is essentially the Spark representation of a set of data, spread across multiple machines, with APIs to let you act on it. An RDD can come from any data source, e.g. text files, a database, a JSON file, etc.\n",
        "\n",
        "\n",
        "## Objectives\n",
        "\n",
        "You will be able to:\n",
        "\n",
        "- Apply the map(func) transformation to a given function on all elements of an RDD in different partitions \n",
        "- Apply a map transformation for all elements of an RDD \n",
        "- Compare the difference between a transformation and an action within RDDs \n",
        "- Use collect(), count(), and take() actions to trigger spark transformations  \n",
        "- Use filter to select data that meets certain specifications within an RDD \n",
        "- Set number of partitions for parallelizing RDDs \n",
        "- Create RDDs from Python collections \n"
      ]
    },
    {
      "cell_type": "markdown",
      "metadata": {
        "id": "Jl2kxzMrUNnl",
        "colab_type": "text"
      },
      "source": [
        "## What are RDDs? \n",
        "\n",
        "To get a better understanding of RDDs, let's break down each one of the components of the acronym RDD:\n",
        "\n",
        "Resilient: RDDs are considered \"resilient\" because they have built-in fault tolerance. This means that even if one of the nodes goes offline, RDDs will be able to restore the data. This is already a huge advantage compared to standard storage. If a standard computer dies while performing an operation, all of its memory will be lost in the process. With RDDs, multiple nodes can go offline, and the action will still be held in working memory.\n",
        "\n",
        "Distributed: The data is contained on multiple nodes of a cluster-computing operation. It is efficiently partitioned to allow for parallelism.\n",
        "\n",
        "Dataset: The dataset has been * partitioned * across the multiple nodes. \n",
        "\n",
        "RDDs are the building block upon which more high-level Spark operations are based upon. Chances are, if you are performing an action using Spark, the operation involves RDDs. \n",
        "\n",
        "\n",
        "\n",
        "Key Characteristics of RDDs:\n",
        "\n",
        "- Immutable: Once an RDD is created, it cannot be modified. \n",
        "- Lazily Evaluated: RDDs will not be evaluated until an action is triggered. Essentially, when RDDs are created, they are programmed to perform some action, but that function will not get activated until it is explicitly called. The reason for lazy evaluation is that allows users to organize the actions of their Spark program into smaller actions. It also saves unnecessary computation and memory load.\n",
        "- In-Memory: The operations in Spark are performed in-memory rather than in the database. This is what allows Spark to perform fast operations with very large quantities of data.\n",
        "\n",
        "\n"
      ]
    },
    {
      "cell_type": "markdown",
      "metadata": {
        "id": "uSOlhNeYUNnl",
        "colab_type": "text"
      },
      "source": [
        "### RDD Transformations vs Actions\n",
        "\n",
        "In Spark, we first create a __base RDD__ and then apply one or more transformations to that base RDD following our processing needs. Being immutable means, **once an RDD is created, it cannot be changed**. As a result, **each transformation of an RDD creates a new RDD**. Finally, we can apply one or more **actions** to the RDDs. Spark uses lazy evaluation, so transformations are not actually executed until an action occurs.\n",
        "\n",
        "\n",
        "<img src=\"https://github.com/megan91292/dsc-resilient-distributed-datasets-rdd-lab-onl01-dtsc-ft-041320/blob/master/images/rdd_diagram.png?raw=1\" width=500>"
      ]
    },
    {
      "cell_type": "markdown",
      "metadata": {
        "id": "wDCByZSpUNnm",
        "colab_type": "text"
      },
      "source": [
        "### Transformations\n",
        "\n",
        "Transformations create a new dataset from an existing one by passing each dataset element through a function and returning a new RDD representing the results. In short, creating an RDD from an existing RDD is ‘transformation’.\n",
        "All transformations in Spark are lazy. They do not compute their results right away. Instead, they just remember the transformations applied to some base dataset (e.g. a file). The transformations are only computed when an action requires a result that needs to be returned to the driver program.\n",
        "A transformation is an RDD that returns another RDD, like map, flatMap, filter, reduceByKey, join, cogroup, etc.\n",
        "\n",
        "### Actions\n",
        "Actions return final results of RDD computations. Actions trigger execution using lineage graph to load the data into original RDD and carry out all intermediate transformations and return the final results to the driver program or writes it out to the file system. An action returns a value (to a Spark driver - the user program).\n",
        "\n",
        "Here are some key transformations and actions that we will explore.\n",
        "\n",
        "\n",
        "| Transformations   | Actions       |\n",
        "|-------------------|---------------|\n",
        "| map(func)         | reduce(func)  |\n",
        "| filter(func)      | collect()     |\n",
        "| groupByKey()      | count()       |\n",
        "| reduceByKey(func) | first()       |\n",
        "| mapValues(func)   | take()        |\n",
        "| sample()          | countByKey()  |\n",
        "| distinct()        | foreach(func) |\n",
        "| sortByKey()       |               |\n"
      ]
    },
    {
      "cell_type": "markdown",
      "metadata": {
        "id": "XlgW0MEZUNnn",
        "colab_type": "text"
      },
      "source": [
        "Let's see how transformations and actions work through a simple example. In this example, we will perform several actions and transformations on RDDs in order to obtain a better understanding of Spark processing. \n",
        "\n",
        "### Create a Python collection \n",
        "\n",
        "We need some data to start experimenting with RDDs. Let's create some sample data and see how RDDs handle it. To practice working with RDDs, we're going to use a simple Python list.\n",
        "\n",
        "- Create a Python list `data` of integers between 1 and 1000 using the `range()` function. \n",
        "- Sanity check: confirm the length of the list (it should be 1000)"
      ]
    },
    {
      "cell_type": "code",
      "metadata": {
        "id": "61gqmccCUNnn",
        "colab_type": "code",
        "colab": {
          "base_uri": "https://localhost:8080/",
          "height": 34
        },
        "outputId": "986174cc-0a83-45aa-be80-3b7034ae45e5"
      },
      "source": [
        "data = range(1,1001)\n",
        "len(data)\n",
        "# 1000"
      ],
      "execution_count": 20,
      "outputs": [
        {
          "output_type": "execute_result",
          "data": {
            "text/plain": [
              "1000"
            ]
          },
          "metadata": {
            "tags": []
          },
          "execution_count": 20
        }
      ]
    },
    {
      "cell_type": "markdown",
      "metadata": {
        "id": "7JHvvA7kUNnr",
        "colab_type": "text"
      },
      "source": [
        "### Initialize an RDD\n",
        "\n",
        "When using Spark to make computations, datasets are treated as lists of entries. Those lists are split into different partitions across different cores or different computers. Each list of data held in memory is a partition of the RDD. The reason why Spark is able to make computations far faster than other big data processing languages is that it allows all data to be stored __in-memory__, which allows for easy access to the data and, in turn, high-speed processing. Here is an example of how the alphabet might be split into different RDDs and held across a distributed collection of nodes:\n",
        "\n",
        "<img src =\"./images/partitions_1.png\" width =\"500\">  \n",
        "To initialize an RDD, first import `pyspark` and then create a SparkContext assigned to the variable `sc`. Use `'local[*]'` as the master."
      ]
    },
    {
      "cell_type": "code",
      "metadata": {
        "id": "LseDGZfQUNns",
        "colab_type": "code",
        "colab": {}
      },
      "source": [
        "import pyspark\n",
        "sc = pyspark.SparkContext('local[*]')"
      ],
      "execution_count": 15,
      "outputs": []
    },
    {
      "cell_type": "markdown",
      "metadata": {
        "id": "HUoM5boUUNnu",
        "colab_type": "text"
      },
      "source": [
        "Once you've created the SparkContext, you can use the `.parallelize()` method to create an RDD that will distribute the list of numbers across multiple cores. Here, create one called `rdd` with 10 partitions using `data` as the collection you are parallelizing."
      ]
    },
    {
      "cell_type": "code",
      "metadata": {
        "id": "0jvcxQbaUNnv",
        "colab_type": "code",
        "colab": {
          "base_uri": "https://localhost:8080/",
          "height": 34
        },
        "outputId": "38d22c00-e4e9-49bf-e8e0-dc0a150b13bf"
      },
      "source": [
        "rdd = sc.parallelize(data, numSlices=10)\n",
        "print(type(rdd))\n"
      ],
      "execution_count": 21,
      "outputs": [
        {
          "output_type": "stream",
          "text": [
            "<class 'pyspark.rdd.PipelinedRDD'>\n"
          ],
          "name": "stdout"
        }
      ]
    },
    {
      "cell_type": "markdown",
      "metadata": {
        "id": "sgnmSqzbUNny",
        "colab_type": "text"
      },
      "source": [
        "Determine how many partitions are being used with this RDD with the `.getNumPartitions()` method."
      ]
    },
    {
      "cell_type": "code",
      "metadata": {
        "id": "RklHTe_rUNnz",
        "colab_type": "code",
        "colab": {
          "base_uri": "https://localhost:8080/",
          "height": 34
        },
        "outputId": "8d566311-d97b-4f6a-8308-61485b0d6257"
      },
      "source": [
        "rdd.getNumPartitions()\n",
        "# 10"
      ],
      "execution_count": 22,
      "outputs": [
        {
          "output_type": "execute_result",
          "data": {
            "text/plain": [
              "10"
            ]
          },
          "metadata": {
            "tags": []
          },
          "execution_count": 22
        }
      ]
    },
    {
      "cell_type": "markdown",
      "metadata": {
        "id": "v4G5ajcNUNn1",
        "colab_type": "text"
      },
      "source": [
        "### Basic descriptive RDD actions\n",
        "\n",
        "Let's perform some basic operations on our RDD. In the cell below, use the methods:\n",
        "* `count`: returns the total count of items in the RDD \n",
        "* `first`: returns the first item in the RDD\n",
        "* `take`: returns the first `n` items in the RDD\n",
        "* `top`: returns the top `n` items\n",
        "* `collect`: returns everything from your RDD\n",
        "\n",
        "\n",
        "It's important to note that in a big data context, calling the collect method will often take a very long time to execute and should be handled with care!"
      ]
    },
    {
      "cell_type": "code",
      "metadata": {
        "scrolled": true,
        "id": "bfLAFcC4UNn2",
        "colab_type": "code",
        "colab": {
          "base_uri": "https://localhost:8080/",
          "height": 34
        },
        "outputId": "5b1994af-704f-4ead-afb7-10230913f65a"
      },
      "source": [
        "# count\n",
        "rdd.count()"
      ],
      "execution_count": 23,
      "outputs": [
        {
          "output_type": "execute_result",
          "data": {
            "text/plain": [
              "1000"
            ]
          },
          "metadata": {
            "tags": []
          },
          "execution_count": 23
        }
      ]
    },
    {
      "cell_type": "code",
      "metadata": {
        "id": "3-SvAfOMUNn5",
        "colab_type": "code",
        "colab": {
          "base_uri": "https://localhost:8080/",
          "height": 34
        },
        "outputId": "05606f91-6200-4607-c6a0-db15fd975824"
      },
      "source": [
        "# first\n",
        "rdd.first()"
      ],
      "execution_count": 24,
      "outputs": [
        {
          "output_type": "execute_result",
          "data": {
            "text/plain": [
              "1"
            ]
          },
          "metadata": {
            "tags": []
          },
          "execution_count": 24
        }
      ]
    },
    {
      "cell_type": "code",
      "metadata": {
        "id": "qds4byKPUNn8",
        "colab_type": "code",
        "colab": {
          "base_uri": "https://localhost:8080/",
          "height": 34
        },
        "outputId": "4046788b-683a-4eb8-ee39-9dcd1a5f087a"
      },
      "source": [
        "rdd.take(10)\n",
        "# take\n"
      ],
      "execution_count": 28,
      "outputs": [
        {
          "output_type": "execute_result",
          "data": {
            "text/plain": [
              "[1, 2, 3, 4, 5, 6, 7, 8, 9, 10]"
            ]
          },
          "metadata": {
            "tags": []
          },
          "execution_count": 28
        }
      ]
    },
    {
      "cell_type": "code",
      "metadata": {
        "id": "s6nd0OQ2UNn-",
        "colab_type": "code",
        "colab": {
          "base_uri": "https://localhost:8080/",
          "height": 34
        },
        "outputId": "242acc64-e367-4b14-ee22-9a63899a4113"
      },
      "source": [
        "# top\n",
        "rdd.top(10)"
      ],
      "execution_count": 29,
      "outputs": [
        {
          "output_type": "execute_result",
          "data": {
            "text/plain": [
              "[1000, 999, 998, 997, 996, 995, 994, 993, 992, 991]"
            ]
          },
          "metadata": {
            "tags": []
          },
          "execution_count": 29
        }
      ]
    },
    {
      "cell_type": "code",
      "metadata": {
        "scrolled": true,
        "id": "dGTdGnWYUNoC",
        "colab_type": "code",
        "colab": {
          "base_uri": "https://localhost:8080/",
          "height": 1000
        },
        "outputId": "1a21f814-c86a-48df-8aba-1cc46820320a"
      },
      "source": [
        "# collect\n",
        "rdd.collect()"
      ],
      "execution_count": 30,
      "outputs": [
        {
          "output_type": "execute_result",
          "data": {
            "text/plain": [
              "[1,\n",
              " 2,\n",
              " 3,\n",
              " 4,\n",
              " 5,\n",
              " 6,\n",
              " 7,\n",
              " 8,\n",
              " 9,\n",
              " 10,\n",
              " 11,\n",
              " 12,\n",
              " 13,\n",
              " 14,\n",
              " 15,\n",
              " 16,\n",
              " 17,\n",
              " 18,\n",
              " 19,\n",
              " 20,\n",
              " 21,\n",
              " 22,\n",
              " 23,\n",
              " 24,\n",
              " 25,\n",
              " 26,\n",
              " 27,\n",
              " 28,\n",
              " 29,\n",
              " 30,\n",
              " 31,\n",
              " 32,\n",
              " 33,\n",
              " 34,\n",
              " 35,\n",
              " 36,\n",
              " 37,\n",
              " 38,\n",
              " 39,\n",
              " 40,\n",
              " 41,\n",
              " 42,\n",
              " 43,\n",
              " 44,\n",
              " 45,\n",
              " 46,\n",
              " 47,\n",
              " 48,\n",
              " 49,\n",
              " 50,\n",
              " 51,\n",
              " 52,\n",
              " 53,\n",
              " 54,\n",
              " 55,\n",
              " 56,\n",
              " 57,\n",
              " 58,\n",
              " 59,\n",
              " 60,\n",
              " 61,\n",
              " 62,\n",
              " 63,\n",
              " 64,\n",
              " 65,\n",
              " 66,\n",
              " 67,\n",
              " 68,\n",
              " 69,\n",
              " 70,\n",
              " 71,\n",
              " 72,\n",
              " 73,\n",
              " 74,\n",
              " 75,\n",
              " 76,\n",
              " 77,\n",
              " 78,\n",
              " 79,\n",
              " 80,\n",
              " 81,\n",
              " 82,\n",
              " 83,\n",
              " 84,\n",
              " 85,\n",
              " 86,\n",
              " 87,\n",
              " 88,\n",
              " 89,\n",
              " 90,\n",
              " 91,\n",
              " 92,\n",
              " 93,\n",
              " 94,\n",
              " 95,\n",
              " 96,\n",
              " 97,\n",
              " 98,\n",
              " 99,\n",
              " 100,\n",
              " 101,\n",
              " 102,\n",
              " 103,\n",
              " 104,\n",
              " 105,\n",
              " 106,\n",
              " 107,\n",
              " 108,\n",
              " 109,\n",
              " 110,\n",
              " 111,\n",
              " 112,\n",
              " 113,\n",
              " 114,\n",
              " 115,\n",
              " 116,\n",
              " 117,\n",
              " 118,\n",
              " 119,\n",
              " 120,\n",
              " 121,\n",
              " 122,\n",
              " 123,\n",
              " 124,\n",
              " 125,\n",
              " 126,\n",
              " 127,\n",
              " 128,\n",
              " 129,\n",
              " 130,\n",
              " 131,\n",
              " 132,\n",
              " 133,\n",
              " 134,\n",
              " 135,\n",
              " 136,\n",
              " 137,\n",
              " 138,\n",
              " 139,\n",
              " 140,\n",
              " 141,\n",
              " 142,\n",
              " 143,\n",
              " 144,\n",
              " 145,\n",
              " 146,\n",
              " 147,\n",
              " 148,\n",
              " 149,\n",
              " 150,\n",
              " 151,\n",
              " 152,\n",
              " 153,\n",
              " 154,\n",
              " 155,\n",
              " 156,\n",
              " 157,\n",
              " 158,\n",
              " 159,\n",
              " 160,\n",
              " 161,\n",
              " 162,\n",
              " 163,\n",
              " 164,\n",
              " 165,\n",
              " 166,\n",
              " 167,\n",
              " 168,\n",
              " 169,\n",
              " 170,\n",
              " 171,\n",
              " 172,\n",
              " 173,\n",
              " 174,\n",
              " 175,\n",
              " 176,\n",
              " 177,\n",
              " 178,\n",
              " 179,\n",
              " 180,\n",
              " 181,\n",
              " 182,\n",
              " 183,\n",
              " 184,\n",
              " 185,\n",
              " 186,\n",
              " 187,\n",
              " 188,\n",
              " 189,\n",
              " 190,\n",
              " 191,\n",
              " 192,\n",
              " 193,\n",
              " 194,\n",
              " 195,\n",
              " 196,\n",
              " 197,\n",
              " 198,\n",
              " 199,\n",
              " 200,\n",
              " 201,\n",
              " 202,\n",
              " 203,\n",
              " 204,\n",
              " 205,\n",
              " 206,\n",
              " 207,\n",
              " 208,\n",
              " 209,\n",
              " 210,\n",
              " 211,\n",
              " 212,\n",
              " 213,\n",
              " 214,\n",
              " 215,\n",
              " 216,\n",
              " 217,\n",
              " 218,\n",
              " 219,\n",
              " 220,\n",
              " 221,\n",
              " 222,\n",
              " 223,\n",
              " 224,\n",
              " 225,\n",
              " 226,\n",
              " 227,\n",
              " 228,\n",
              " 229,\n",
              " 230,\n",
              " 231,\n",
              " 232,\n",
              " 233,\n",
              " 234,\n",
              " 235,\n",
              " 236,\n",
              " 237,\n",
              " 238,\n",
              " 239,\n",
              " 240,\n",
              " 241,\n",
              " 242,\n",
              " 243,\n",
              " 244,\n",
              " 245,\n",
              " 246,\n",
              " 247,\n",
              " 248,\n",
              " 249,\n",
              " 250,\n",
              " 251,\n",
              " 252,\n",
              " 253,\n",
              " 254,\n",
              " 255,\n",
              " 256,\n",
              " 257,\n",
              " 258,\n",
              " 259,\n",
              " 260,\n",
              " 261,\n",
              " 262,\n",
              " 263,\n",
              " 264,\n",
              " 265,\n",
              " 266,\n",
              " 267,\n",
              " 268,\n",
              " 269,\n",
              " 270,\n",
              " 271,\n",
              " 272,\n",
              " 273,\n",
              " 274,\n",
              " 275,\n",
              " 276,\n",
              " 277,\n",
              " 278,\n",
              " 279,\n",
              " 280,\n",
              " 281,\n",
              " 282,\n",
              " 283,\n",
              " 284,\n",
              " 285,\n",
              " 286,\n",
              " 287,\n",
              " 288,\n",
              " 289,\n",
              " 290,\n",
              " 291,\n",
              " 292,\n",
              " 293,\n",
              " 294,\n",
              " 295,\n",
              " 296,\n",
              " 297,\n",
              " 298,\n",
              " 299,\n",
              " 300,\n",
              " 301,\n",
              " 302,\n",
              " 303,\n",
              " 304,\n",
              " 305,\n",
              " 306,\n",
              " 307,\n",
              " 308,\n",
              " 309,\n",
              " 310,\n",
              " 311,\n",
              " 312,\n",
              " 313,\n",
              " 314,\n",
              " 315,\n",
              " 316,\n",
              " 317,\n",
              " 318,\n",
              " 319,\n",
              " 320,\n",
              " 321,\n",
              " 322,\n",
              " 323,\n",
              " 324,\n",
              " 325,\n",
              " 326,\n",
              " 327,\n",
              " 328,\n",
              " 329,\n",
              " 330,\n",
              " 331,\n",
              " 332,\n",
              " 333,\n",
              " 334,\n",
              " 335,\n",
              " 336,\n",
              " 337,\n",
              " 338,\n",
              " 339,\n",
              " 340,\n",
              " 341,\n",
              " 342,\n",
              " 343,\n",
              " 344,\n",
              " 345,\n",
              " 346,\n",
              " 347,\n",
              " 348,\n",
              " 349,\n",
              " 350,\n",
              " 351,\n",
              " 352,\n",
              " 353,\n",
              " 354,\n",
              " 355,\n",
              " 356,\n",
              " 357,\n",
              " 358,\n",
              " 359,\n",
              " 360,\n",
              " 361,\n",
              " 362,\n",
              " 363,\n",
              " 364,\n",
              " 365,\n",
              " 366,\n",
              " 367,\n",
              " 368,\n",
              " 369,\n",
              " 370,\n",
              " 371,\n",
              " 372,\n",
              " 373,\n",
              " 374,\n",
              " 375,\n",
              " 376,\n",
              " 377,\n",
              " 378,\n",
              " 379,\n",
              " 380,\n",
              " 381,\n",
              " 382,\n",
              " 383,\n",
              " 384,\n",
              " 385,\n",
              " 386,\n",
              " 387,\n",
              " 388,\n",
              " 389,\n",
              " 390,\n",
              " 391,\n",
              " 392,\n",
              " 393,\n",
              " 394,\n",
              " 395,\n",
              " 396,\n",
              " 397,\n",
              " 398,\n",
              " 399,\n",
              " 400,\n",
              " 401,\n",
              " 402,\n",
              " 403,\n",
              " 404,\n",
              " 405,\n",
              " 406,\n",
              " 407,\n",
              " 408,\n",
              " 409,\n",
              " 410,\n",
              " 411,\n",
              " 412,\n",
              " 413,\n",
              " 414,\n",
              " 415,\n",
              " 416,\n",
              " 417,\n",
              " 418,\n",
              " 419,\n",
              " 420,\n",
              " 421,\n",
              " 422,\n",
              " 423,\n",
              " 424,\n",
              " 425,\n",
              " 426,\n",
              " 427,\n",
              " 428,\n",
              " 429,\n",
              " 430,\n",
              " 431,\n",
              " 432,\n",
              " 433,\n",
              " 434,\n",
              " 435,\n",
              " 436,\n",
              " 437,\n",
              " 438,\n",
              " 439,\n",
              " 440,\n",
              " 441,\n",
              " 442,\n",
              " 443,\n",
              " 444,\n",
              " 445,\n",
              " 446,\n",
              " 447,\n",
              " 448,\n",
              " 449,\n",
              " 450,\n",
              " 451,\n",
              " 452,\n",
              " 453,\n",
              " 454,\n",
              " 455,\n",
              " 456,\n",
              " 457,\n",
              " 458,\n",
              " 459,\n",
              " 460,\n",
              " 461,\n",
              " 462,\n",
              " 463,\n",
              " 464,\n",
              " 465,\n",
              " 466,\n",
              " 467,\n",
              " 468,\n",
              " 469,\n",
              " 470,\n",
              " 471,\n",
              " 472,\n",
              " 473,\n",
              " 474,\n",
              " 475,\n",
              " 476,\n",
              " 477,\n",
              " 478,\n",
              " 479,\n",
              " 480,\n",
              " 481,\n",
              " 482,\n",
              " 483,\n",
              " 484,\n",
              " 485,\n",
              " 486,\n",
              " 487,\n",
              " 488,\n",
              " 489,\n",
              " 490,\n",
              " 491,\n",
              " 492,\n",
              " 493,\n",
              " 494,\n",
              " 495,\n",
              " 496,\n",
              " 497,\n",
              " 498,\n",
              " 499,\n",
              " 500,\n",
              " 501,\n",
              " 502,\n",
              " 503,\n",
              " 504,\n",
              " 505,\n",
              " 506,\n",
              " 507,\n",
              " 508,\n",
              " 509,\n",
              " 510,\n",
              " 511,\n",
              " 512,\n",
              " 513,\n",
              " 514,\n",
              " 515,\n",
              " 516,\n",
              " 517,\n",
              " 518,\n",
              " 519,\n",
              " 520,\n",
              " 521,\n",
              " 522,\n",
              " 523,\n",
              " 524,\n",
              " 525,\n",
              " 526,\n",
              " 527,\n",
              " 528,\n",
              " 529,\n",
              " 530,\n",
              " 531,\n",
              " 532,\n",
              " 533,\n",
              " 534,\n",
              " 535,\n",
              " 536,\n",
              " 537,\n",
              " 538,\n",
              " 539,\n",
              " 540,\n",
              " 541,\n",
              " 542,\n",
              " 543,\n",
              " 544,\n",
              " 545,\n",
              " 546,\n",
              " 547,\n",
              " 548,\n",
              " 549,\n",
              " 550,\n",
              " 551,\n",
              " 552,\n",
              " 553,\n",
              " 554,\n",
              " 555,\n",
              " 556,\n",
              " 557,\n",
              " 558,\n",
              " 559,\n",
              " 560,\n",
              " 561,\n",
              " 562,\n",
              " 563,\n",
              " 564,\n",
              " 565,\n",
              " 566,\n",
              " 567,\n",
              " 568,\n",
              " 569,\n",
              " 570,\n",
              " 571,\n",
              " 572,\n",
              " 573,\n",
              " 574,\n",
              " 575,\n",
              " 576,\n",
              " 577,\n",
              " 578,\n",
              " 579,\n",
              " 580,\n",
              " 581,\n",
              " 582,\n",
              " 583,\n",
              " 584,\n",
              " 585,\n",
              " 586,\n",
              " 587,\n",
              " 588,\n",
              " 589,\n",
              " 590,\n",
              " 591,\n",
              " 592,\n",
              " 593,\n",
              " 594,\n",
              " 595,\n",
              " 596,\n",
              " 597,\n",
              " 598,\n",
              " 599,\n",
              " 600,\n",
              " 601,\n",
              " 602,\n",
              " 603,\n",
              " 604,\n",
              " 605,\n",
              " 606,\n",
              " 607,\n",
              " 608,\n",
              " 609,\n",
              " 610,\n",
              " 611,\n",
              " 612,\n",
              " 613,\n",
              " 614,\n",
              " 615,\n",
              " 616,\n",
              " 617,\n",
              " 618,\n",
              " 619,\n",
              " 620,\n",
              " 621,\n",
              " 622,\n",
              " 623,\n",
              " 624,\n",
              " 625,\n",
              " 626,\n",
              " 627,\n",
              " 628,\n",
              " 629,\n",
              " 630,\n",
              " 631,\n",
              " 632,\n",
              " 633,\n",
              " 634,\n",
              " 635,\n",
              " 636,\n",
              " 637,\n",
              " 638,\n",
              " 639,\n",
              " 640,\n",
              " 641,\n",
              " 642,\n",
              " 643,\n",
              " 644,\n",
              " 645,\n",
              " 646,\n",
              " 647,\n",
              " 648,\n",
              " 649,\n",
              " 650,\n",
              " 651,\n",
              " 652,\n",
              " 653,\n",
              " 654,\n",
              " 655,\n",
              " 656,\n",
              " 657,\n",
              " 658,\n",
              " 659,\n",
              " 660,\n",
              " 661,\n",
              " 662,\n",
              " 663,\n",
              " 664,\n",
              " 665,\n",
              " 666,\n",
              " 667,\n",
              " 668,\n",
              " 669,\n",
              " 670,\n",
              " 671,\n",
              " 672,\n",
              " 673,\n",
              " 674,\n",
              " 675,\n",
              " 676,\n",
              " 677,\n",
              " 678,\n",
              " 679,\n",
              " 680,\n",
              " 681,\n",
              " 682,\n",
              " 683,\n",
              " 684,\n",
              " 685,\n",
              " 686,\n",
              " 687,\n",
              " 688,\n",
              " 689,\n",
              " 690,\n",
              " 691,\n",
              " 692,\n",
              " 693,\n",
              " 694,\n",
              " 695,\n",
              " 696,\n",
              " 697,\n",
              " 698,\n",
              " 699,\n",
              " 700,\n",
              " 701,\n",
              " 702,\n",
              " 703,\n",
              " 704,\n",
              " 705,\n",
              " 706,\n",
              " 707,\n",
              " 708,\n",
              " 709,\n",
              " 710,\n",
              " 711,\n",
              " 712,\n",
              " 713,\n",
              " 714,\n",
              " 715,\n",
              " 716,\n",
              " 717,\n",
              " 718,\n",
              " 719,\n",
              " 720,\n",
              " 721,\n",
              " 722,\n",
              " 723,\n",
              " 724,\n",
              " 725,\n",
              " 726,\n",
              " 727,\n",
              " 728,\n",
              " 729,\n",
              " 730,\n",
              " 731,\n",
              " 732,\n",
              " 733,\n",
              " 734,\n",
              " 735,\n",
              " 736,\n",
              " 737,\n",
              " 738,\n",
              " 739,\n",
              " 740,\n",
              " 741,\n",
              " 742,\n",
              " 743,\n",
              " 744,\n",
              " 745,\n",
              " 746,\n",
              " 747,\n",
              " 748,\n",
              " 749,\n",
              " 750,\n",
              " 751,\n",
              " 752,\n",
              " 753,\n",
              " 754,\n",
              " 755,\n",
              " 756,\n",
              " 757,\n",
              " 758,\n",
              " 759,\n",
              " 760,\n",
              " 761,\n",
              " 762,\n",
              " 763,\n",
              " 764,\n",
              " 765,\n",
              " 766,\n",
              " 767,\n",
              " 768,\n",
              " 769,\n",
              " 770,\n",
              " 771,\n",
              " 772,\n",
              " 773,\n",
              " 774,\n",
              " 775,\n",
              " 776,\n",
              " 777,\n",
              " 778,\n",
              " 779,\n",
              " 780,\n",
              " 781,\n",
              " 782,\n",
              " 783,\n",
              " 784,\n",
              " 785,\n",
              " 786,\n",
              " 787,\n",
              " 788,\n",
              " 789,\n",
              " 790,\n",
              " 791,\n",
              " 792,\n",
              " 793,\n",
              " 794,\n",
              " 795,\n",
              " 796,\n",
              " 797,\n",
              " 798,\n",
              " 799,\n",
              " 800,\n",
              " 801,\n",
              " 802,\n",
              " 803,\n",
              " 804,\n",
              " 805,\n",
              " 806,\n",
              " 807,\n",
              " 808,\n",
              " 809,\n",
              " 810,\n",
              " 811,\n",
              " 812,\n",
              " 813,\n",
              " 814,\n",
              " 815,\n",
              " 816,\n",
              " 817,\n",
              " 818,\n",
              " 819,\n",
              " 820,\n",
              " 821,\n",
              " 822,\n",
              " 823,\n",
              " 824,\n",
              " 825,\n",
              " 826,\n",
              " 827,\n",
              " 828,\n",
              " 829,\n",
              " 830,\n",
              " 831,\n",
              " 832,\n",
              " 833,\n",
              " 834,\n",
              " 835,\n",
              " 836,\n",
              " 837,\n",
              " 838,\n",
              " 839,\n",
              " 840,\n",
              " 841,\n",
              " 842,\n",
              " 843,\n",
              " 844,\n",
              " 845,\n",
              " 846,\n",
              " 847,\n",
              " 848,\n",
              " 849,\n",
              " 850,\n",
              " 851,\n",
              " 852,\n",
              " 853,\n",
              " 854,\n",
              " 855,\n",
              " 856,\n",
              " 857,\n",
              " 858,\n",
              " 859,\n",
              " 860,\n",
              " 861,\n",
              " 862,\n",
              " 863,\n",
              " 864,\n",
              " 865,\n",
              " 866,\n",
              " 867,\n",
              " 868,\n",
              " 869,\n",
              " 870,\n",
              " 871,\n",
              " 872,\n",
              " 873,\n",
              " 874,\n",
              " 875,\n",
              " 876,\n",
              " 877,\n",
              " 878,\n",
              " 879,\n",
              " 880,\n",
              " 881,\n",
              " 882,\n",
              " 883,\n",
              " 884,\n",
              " 885,\n",
              " 886,\n",
              " 887,\n",
              " 888,\n",
              " 889,\n",
              " 890,\n",
              " 891,\n",
              " 892,\n",
              " 893,\n",
              " 894,\n",
              " 895,\n",
              " 896,\n",
              " 897,\n",
              " 898,\n",
              " 899,\n",
              " 900,\n",
              " 901,\n",
              " 902,\n",
              " 903,\n",
              " 904,\n",
              " 905,\n",
              " 906,\n",
              " 907,\n",
              " 908,\n",
              " 909,\n",
              " 910,\n",
              " 911,\n",
              " 912,\n",
              " 913,\n",
              " 914,\n",
              " 915,\n",
              " 916,\n",
              " 917,\n",
              " 918,\n",
              " 919,\n",
              " 920,\n",
              " 921,\n",
              " 922,\n",
              " 923,\n",
              " 924,\n",
              " 925,\n",
              " 926,\n",
              " 927,\n",
              " 928,\n",
              " 929,\n",
              " 930,\n",
              " 931,\n",
              " 932,\n",
              " 933,\n",
              " 934,\n",
              " 935,\n",
              " 936,\n",
              " 937,\n",
              " 938,\n",
              " 939,\n",
              " 940,\n",
              " 941,\n",
              " 942,\n",
              " 943,\n",
              " 944,\n",
              " 945,\n",
              " 946,\n",
              " 947,\n",
              " 948,\n",
              " 949,\n",
              " 950,\n",
              " 951,\n",
              " 952,\n",
              " 953,\n",
              " 954,\n",
              " 955,\n",
              " 956,\n",
              " 957,\n",
              " 958,\n",
              " 959,\n",
              " 960,\n",
              " 961,\n",
              " 962,\n",
              " 963,\n",
              " 964,\n",
              " 965,\n",
              " 966,\n",
              " 967,\n",
              " 968,\n",
              " 969,\n",
              " 970,\n",
              " 971,\n",
              " 972,\n",
              " 973,\n",
              " 974,\n",
              " 975,\n",
              " 976,\n",
              " 977,\n",
              " 978,\n",
              " 979,\n",
              " 980,\n",
              " 981,\n",
              " 982,\n",
              " 983,\n",
              " 984,\n",
              " 985,\n",
              " 986,\n",
              " 987,\n",
              " 988,\n",
              " 989,\n",
              " 990,\n",
              " 991,\n",
              " 992,\n",
              " 993,\n",
              " 994,\n",
              " 995,\n",
              " 996,\n",
              " 997,\n",
              " 998,\n",
              " 999,\n",
              " 1000]"
            ]
          },
          "metadata": {
            "tags": []
          },
          "execution_count": 30
        }
      ]
    },
    {
      "cell_type": "markdown",
      "metadata": {
        "id": "JdPHAUdCUNoE",
        "colab_type": "text"
      },
      "source": [
        "## Map functions\n",
        "\n",
        "Now that you've been working a little bit with RDDs, let's make this a little more interesting. Imagine you're running a hot new e-commerce startup called BuyStuff, and you're trying to track of how much it charges customers from each item sold. In the next cell, we're going to create simulated data by multiplying the values 1-1000 with a random number from 0-1."
      ]
    },
    {
      "cell_type": "code",
      "metadata": {
        "id": "XGvSSgPkUNoE",
        "colab_type": "code",
        "colab": {
          "base_uri": "https://localhost:8080/",
          "height": 1000
        },
        "outputId": "c88ad6ca-5b8a-41d2-aacb-c84e08e0fa61"
      },
      "source": [
        "import random\n",
        "import numpy as np\n",
        "\n",
        "nums = np.array(range(1, 1001))\n",
        "sales_figures = nums * np.random.rand(1000)\n",
        "sales_figures"
      ],
      "execution_count": 34,
      "outputs": [
        {
          "output_type": "execute_result",
          "data": {
            "text/plain": [
              "array([3.93928131e-01, 1.50942767e+00, 1.85584334e+00, 2.80605310e+00,\n",
              "       4.78054228e+00, 5.31416262e+00, 3.80244547e+00, 1.01150017e+00,\n",
              "       8.89924643e+00, 7.29565587e+00, 1.93414037e+00, 7.12266566e+00,\n",
              "       1.08355305e+01, 7.06780783e+00, 3.52142160e+00, 2.58557529e+00,\n",
              "       1.12508372e+01, 3.62129336e-01, 5.28468254e+00, 4.40800340e+00,\n",
              "       2.37789267e+00, 1.98807513e+01, 2.00858608e+01, 2.07225521e+01,\n",
              "       1.32366962e+01, 1.62586069e+01, 1.63881086e+01, 2.52112300e+01,\n",
              "       2.79246170e+01, 1.44297913e+01, 4.76988446e+00, 2.54009030e+01,\n",
              "       2.57723393e+01, 1.34798932e+01, 2.71502363e+01, 2.86786984e+01,\n",
              "       2.59649596e+01, 2.78638437e+01, 3.13992007e+01, 3.15864605e+00,\n",
              "       1.76704352e+01, 3.66480398e+01, 1.76452470e+01, 2.59419513e+01,\n",
              "       1.63079913e+01, 1.61302309e+01, 3.02288717e+01, 3.51403541e+01,\n",
              "       1.09965880e+01, 1.85033286e+01, 2.76751681e+01, 4.31178960e+01,\n",
              "       4.39969002e+01, 5.02317825e+01, 2.36458360e+01, 3.81938520e+01,\n",
              "       3.56760507e+01, 1.45905676e+01, 5.51936432e+01, 3.43334991e+01,\n",
              "       8.88301588e+00, 4.41480478e+01, 2.48435414e+01, 6.30666312e+01,\n",
              "       1.54943535e+01, 1.38969977e+01, 5.54071331e+01, 4.53385514e+01,\n",
              "       6.86563365e+01, 1.29749531e+01, 4.91401158e+01, 4.27155932e+00,\n",
              "       2.79361531e+01, 5.46429965e+01, 7.27087539e+01, 2.20755104e+01,\n",
              "       7.55971014e+01, 7.72653439e+01, 2.02783957e+01, 4.48748577e+01,\n",
              "       3.84649261e-01, 4.89640693e+01, 4.79922511e+01, 7.90793886e+01,\n",
              "       6.35851798e+01, 7.05841450e+01, 1.33056254e+01, 2.91385942e+01,\n",
              "       1.50321290e+01, 8.87209467e+01, 3.55169845e+01, 1.04755435e+00,\n",
              "       3.48623635e+01, 4.43859569e+01, 3.75578863e+00, 3.03468048e+01,\n",
              "       4.24897712e+01, 6.89695991e+01, 1.31295737e+01, 2.23717796e+01,\n",
              "       4.65071244e+01, 2.22157142e+01, 9.61691105e+01, 5.94917333e+01,\n",
              "       8.60609094e+01, 4.81970773e+01, 2.50334663e+01, 3.36016925e+01,\n",
              "       1.07935879e+02, 2.61234520e+01, 8.18702571e+01, 6.01144644e+01,\n",
              "       4.13297749e+01, 6.84087244e+01, 1.74128062e-01, 9.39417441e+01,\n",
              "       8.69068297e+01, 1.37953708e+01, 3.24197893e+00, 9.70557905e+01,\n",
              "       8.49893679e+01, 3.27206942e+01, 1.08330775e+02, 3.43724904e+01,\n",
              "       3.13840781e+01, 1.13866767e+02, 3.65045378e+01, 1.06755463e+02,\n",
              "       9.35574836e+01, 7.36838171e+01, 5.91903035e+01, 1.10842362e+02,\n",
              "       1.29348687e+02, 5.77205823e+01, 1.42241201e+01, 5.83911068e+01,\n",
              "       5.53173079e+01, 1.13094742e+02, 6.21084661e+01, 1.26271425e+02,\n",
              "       3.17537705e+01, 2.33452983e+01, 7.97621064e+01, 2.47406170e+01,\n",
              "       5.08228331e+01, 2.88695385e+01, 9.42258602e+01, 1.04197915e+02,\n",
              "       3.88556023e+00, 9.34140972e+01, 2.38494850e+01, 1.49152805e+02,\n",
              "       3.05540596e+01, 1.36204597e+02, 2.90424930e+01, 5.86617074e+01,\n",
              "       1.52005257e+02, 7.13126581e+01, 8.41516949e+00, 8.98417987e+00,\n",
              "       1.70580719e+01, 3.36709864e+01, 1.59716460e-01, 1.45854661e+02,\n",
              "       1.60097654e+02, 1.74078376e+01, 1.59875390e+02, 1.07812480e+02,\n",
              "       2.39826939e+01, 4.23745644e+01, 7.72887643e+01, 6.37543337e+01,\n",
              "       1.64037141e+02, 1.31655990e+02, 9.05838699e+01, 7.61015364e+00,\n",
              "       1.70935235e+02, 1.63540732e+02, 1.37544715e+02, 9.44015552e+01,\n",
              "       1.53024974e+02, 2.21466121e+01, 2.50085609e+01, 1.81087848e+02,\n",
              "       5.87869448e+01, 3.06288769e+01, 1.09788577e+02, 1.87199948e+02,\n",
              "       1.52037999e+02, 1.44328365e+02, 1.79518225e+02, 1.78051657e+02,\n",
              "       9.18551143e+01, 1.41828488e+02, 1.72436446e+02, 1.65428570e+02,\n",
              "       1.62639429e+02, 1.49983058e+02, 1.83456278e+02, 6.94990158e+01,\n",
              "       4.91987155e-01, 5.17675019e-01, 4.18472560e+01, 7.91421904e+01,\n",
              "       1.83508195e+02, 1.38439368e+02, 1.80426686e+02, 1.03594675e+02,\n",
              "       1.07680357e+02, 1.95917095e+02, 7.86706815e+01, 1.81843634e+02,\n",
              "       1.66920320e+02, 1.32418270e+02, 1.98414018e+02, 1.92323103e+01,\n",
              "       1.74053418e+02, 6.29058154e+01, 9.30828752e+00, 1.46899613e+02,\n",
              "       1.93018336e+02, 6.99652405e+01, 1.62527843e+02, 3.04483838e+00,\n",
              "       2.24992686e+02, 1.87768226e+02, 6.62901441e+01, 1.43574878e+02,\n",
              "       5.89945715e+01, 2.16613276e+02, 2.11517683e+02, 2.06177832e+02,\n",
              "       1.05092388e+02, 2.13523884e+02, 2.02026548e+02, 7.71186646e+01,\n",
              "       1.65490920e+02, 4.27357315e+01, 1.82987849e+00, 1.13610330e+02,\n",
              "       1.91296586e+02, 2.11610512e+02, 1.44670403e+02, 1.40742541e+02,\n",
              "       2.84185256e+01, 8.46514545e+01, 1.23652445e+02, 4.61133499e+01,\n",
              "       1.15065654e+02, 1.73991830e+02, 2.11719616e+02, 5.34817902e+01,\n",
              "       6.66805170e+01, 7.62559857e+01, 2.77094607e+01, 1.58724861e+02,\n",
              "       2.27191663e+02, 1.07340576e+02, 3.55666861e+01, 6.91317885e+01,\n",
              "       8.03760427e+01, 2.16210178e+02, 2.96200582e+01, 1.31151518e+02,\n",
              "       1.71164715e+02, 1.66507990e+02, 2.15414572e+02, 2.49716186e+02,\n",
              "       2.39919463e+02, 2.45863059e+02, 1.69682204e+01, 4.80928825e+01,\n",
              "       1.48880720e+02, 1.12958857e+02, 2.63422372e+02, 1.14015937e+02,\n",
              "       2.55197390e+02, 6.07537915e+01, 2.24091844e+02, 8.21589658e+01,\n",
              "       6.55052863e+00, 8.17129039e+01, 2.14529517e+02, 1.88236319e+02,\n",
              "       1.37518035e+02, 1.43955330e+01, 2.59256287e+01, 8.91061857e+01,\n",
              "       8.56079768e+01, 1.73127744e+02, 3.86725763e+01, 3.80139208e+01,\n",
              "       8.99155361e+01, 1.07458586e+02, 1.85223654e+01, 1.26430079e+02,\n",
              "       2.75010573e+02, 9.72245452e+01, 5.44112403e+01, 2.50561496e+02,\n",
              "       3.95945985e+01, 3.22359203e+01, 4.09344985e+00, 2.38337449e+02,\n",
              "       1.58315270e+01, 1.00693323e+02, 3.30917306e+01, 1.17351419e+02,\n",
              "       2.15725170e+02, 2.02097903e+02, 1.38025887e+02, 8.45121964e+01,\n",
              "       6.61202105e+01, 3.35752794e+01, 2.74166722e+02, 2.87268449e+02,\n",
              "       4.16672279e+01, 2.27260354e+02, 1.74433781e+02, 2.93147394e+01,\n",
              "       2.09066063e+02, 2.92995600e+02, 1.48068885e+02, 2.13256574e+02,\n",
              "       3.01303579e+02, 2.82176733e+01, 1.14278957e+02, 3.20889500e+02,\n",
              "       2.64079159e+02, 1.28795773e+02, 2.13337485e+00, 1.32237286e+02,\n",
              "       2.48483796e+00, 1.18932723e+01, 8.29311861e+01, 2.98904081e+02,\n",
              "       9.29767001e-01, 1.97070175e+02, 1.64433116e+02, 1.29568419e+02,\n",
              "       8.46789028e+01, 5.43641206e+00, 1.62740631e+02, 2.78867730e+01,\n",
              "       3.37599763e+02, 2.90416016e+02, 1.20216911e+02, 8.89297734e+01,\n",
              "       1.01394618e+02, 3.39829117e+02, 2.91373893e+02, 1.28336786e+02,\n",
              "       2.61737536e+02, 3.06027092e+02, 1.29385341e+02, 2.16713499e+02,\n",
              "       3.32545304e+02, 1.12908363e+02, 1.72979146e+02, 1.76930020e+02,\n",
              "       4.90541600e+01, 3.52772372e+02, 3.32826568e+02, 2.02663645e+02,\n",
              "       1.10802844e+02, 2.03615107e+02, 2.00509191e+02, 1.76614262e+01,\n",
              "       2.90248362e+02, 1.68381357e+02, 2.67764796e+02, 2.19347530e+02,\n",
              "       2.57636326e+02, 8.93242383e+01, 3.57929926e+02, 3.56518574e+02,\n",
              "       1.49018600e+02, 2.16553901e+02, 1.68296089e+00, 1.65679933e+01,\n",
              "       1.12253570e+02, 5.58310662e+01, 1.33584338e+02, 7.35847493e+01,\n",
              "       2.61341453e+02, 8.85945153e+01, 5.26992078e+01, 2.27464239e+02,\n",
              "       2.24849375e+02, 2.23846726e+02, 1.39184151e+02, 3.63211014e+02,\n",
              "       3.71985486e+02, 8.52505925e+01, 3.00593310e+02, 1.30213507e+02,\n",
              "       1.49314365e+02, 2.62460403e+02, 3.94629687e+02, 2.13854939e+02,\n",
              "       3.54319780e+01, 2.65668918e+02, 2.08189679e+01, 3.28289126e+02,\n",
              "       1.86142094e+02, 3.96626191e+02, 2.09828234e+02, 2.38168298e+02,\n",
              "       2.41608143e+02, 1.61254773e+02, 4.02554120e+01, 7.32828674e+01,\n",
              "       8.47400532e+01, 2.82623978e+02, 1.29186048e+01, 2.18034160e+02,\n",
              "       2.16539183e+02, 2.89988137e+02, 2.11245191e+02, 3.22167425e+02,\n",
              "       2.32961502e+02, 2.83371268e+02, 8.28105896e+01, 1.86701146e+02,\n",
              "       2.88894414e+02, 3.35396956e+02, 2.26830985e+02, 2.07936460e+02,\n",
              "       2.02598781e+02, 3.18637030e+02, 3.63170940e+02, 1.44176372e+02,\n",
              "       4.14576333e+02, 2.94809180e+02, 9.19643382e+01, 1.46281219e+02,\n",
              "       3.44977956e+02, 3.21451450e+02, 3.43665683e+02, 4.06868436e+02,\n",
              "       9.56356971e+01, 1.44980547e+02, 1.52219664e+02, 3.18258147e+02,\n",
              "       2.78268089e+01, 5.96088915e+01, 1.59962579e+02, 9.92424313e+01,\n",
              "       3.84335947e+01, 2.18623544e+02, 2.55629035e+02, 5.17826287e+00,\n",
              "       3.79321948e+02, 2.10432097e+02, 7.12116244e+01, 1.91779669e+02,\n",
              "       5.31198582e+01, 4.19030350e+02, 1.17927116e+02, 4.28344131e+02,\n",
              "       3.71978399e+02, 2.14073234e+02, 6.17267588e+01, 4.01952677e+01,\n",
              "       3.69035984e+02, 2.14748639e+02, 3.24105682e+02, 2.28954040e+02,\n",
              "       4.53962726e+02, 2.66179276e+02, 3.65558821e+01, 1.36767778e+02,\n",
              "       2.44191177e+02, 2.92393992e+02, 1.07624084e+02, 3.62746279e+02,\n",
              "       1.66663590e+02, 4.32888859e+02, 4.76207410e+02, 1.71448316e+02,\n",
              "       4.27526541e+02, 1.96930221e+02, 1.70636229e+02, 2.58960044e+02,\n",
              "       4.77428319e+02, 4.03570705e+02, 6.66327577e+01, 4.45869251e+02,\n",
              "       3.13605827e+02, 3.43549687e+02, 2.10218653e+02, 2.90845973e+02,\n",
              "       4.04596413e+02, 3.98253758e+02, 4.78307547e+02, 4.77031513e+02,\n",
              "       2.43962095e+02, 2.40250283e+02, 8.51985621e+00, 1.28623661e+02,\n",
              "       2.88968910e+02, 3.27783716e+02, 4.87092635e+02, 3.36184319e+02,\n",
              "       2.86741754e+02, 1.13316788e+02, 3.16825503e+02, 4.36216072e+02,\n",
              "       1.98696057e+02, 2.62430279e+02, 3.11020953e+02, 3.75269226e+02,\n",
              "       2.50706731e+02, 2.87827026e+02, 1.66205409e+01, 1.71193379e+02,\n",
              "       7.40699296e+01, 2.75469411e+02, 4.23430870e+02, 4.26318487e+02,\n",
              "       3.35796484e+00, 4.82765770e+02, 5.13437540e+02, 1.27786277e+01,\n",
              "       3.94700616e+02, 4.29986744e+02, 3.51873279e+02, 2.12909082e+01,\n",
              "       3.30522920e+01, 4.90778692e+02, 4.73157414e+02, 1.94616575e+02,\n",
              "       1.95741290e+02, 1.34242369e+01, 2.30440584e+02, 3.59874850e+02,\n",
              "       4.14270476e+02, 2.07199260e+02, 5.14337458e+02, 4.28209685e+02,\n",
              "       1.62655586e+01, 4.36234721e+02, 2.41805752e+02, 1.01267949e+02,\n",
              "       2.65853101e+02, 1.79233875e+02, 1.87004379e+02, 5.01729060e+02,\n",
              "       2.68928815e+02, 3.04650119e+02, 1.42195635e+02, 2.31683141e+00,\n",
              "       3.51853339e+02, 1.13341720e+02, 1.21079707e+02, 3.72725771e+02,\n",
              "       3.28622106e+01, 5.67104244e+01, 2.29729773e+01, 2.57234337e+02,\n",
              "       5.14120862e+02, 6.28133143e+01, 3.47365836e+02, 2.98897073e+02,\n",
              "       1.14761872e+02, 4.56385224e+02, 5.07675648e+02, 1.02537574e+02,\n",
              "       2.69199317e+02, 4.19557243e+02, 1.98928388e+02, 5.97549934e+01,\n",
              "       4.16933855e+02, 5.54601572e+02, 4.70229905e+02, 7.93638640e+01,\n",
              "       5.03525916e+02, 5.45787497e+02, 3.73529511e+02, 3.86225253e+02,\n",
              "       5.96789815e+01, 3.63193109e+02, 2.19956222e+02, 1.03430701e+02,\n",
              "       7.72463890e+01, 4.90831273e+02, 3.87800601e+02, 1.45487497e+02,\n",
              "       6.14443899e+01, 3.50201083e+01, 2.10030704e+02, 7.54648563e+00,\n",
              "       1.73932366e+02, 4.05749388e+02, 8.61975240e+00, 4.17705257e+02,\n",
              "       2.26398049e+02, 2.17366850e+02, 5.15194488e+02, 3.66213710e+01,\n",
              "       3.20787772e+02, 2.87490018e+02, 1.61406276e+02, 2.38956330e+02,\n",
              "       3.71354322e+02, 4.42411724e+02, 1.88559362e+02, 3.46611117e+00,\n",
              "       5.79776363e+02, 5.26514118e+02, 6.73344827e+01, 6.00698079e+02,\n",
              "       5.84141725e+02, 3.32265800e+02, 4.84644263e+02, 5.99038725e+01,\n",
              "       1.21605540e+02, 2.80520084e+02, 4.98905352e+02, 1.14064149e+02,\n",
              "       1.81270887e+02, 4.22212753e+02, 5.27035270e+02, 1.49980203e+02,\n",
              "       1.92939688e+01, 2.96730532e+02, 5.33678258e+02, 1.35022968e+02,\n",
              "       1.72537218e+01, 3.14872573e+02, 2.62030491e+02, 5.71104827e+02,\n",
              "       3.99221103e+02, 8.97780396e+01, 1.81500443e+02, 2.06415679e+02,\n",
              "       1.35621360e+02, 5.84476771e+02, 6.33310453e+02, 5.73931416e+02,\n",
              "       1.32678071e+02, 3.18296986e+02, 2.93473252e+02, 4.89704321e+02,\n",
              "       6.67276951e+01, 6.38451567e+02, 4.73649569e+02, 3.36634989e+02,\n",
              "       2.99831440e+02, 3.66183024e+02, 6.36232680e+02, 5.29300372e+02,\n",
              "       5.60475456e+02, 1.38342639e+02, 2.81437951e+02, 5.18421392e+02,\n",
              "       3.81723159e+02, 2.24238715e+02, 5.59382709e+02, 5.65138145e+02,\n",
              "       3.40303048e+02, 6.19486859e+01, 3.11099978e+02, 1.93300546e+02,\n",
              "       8.92844680e+01, 6.41368888e+02, 6.40990832e+01, 1.13379480e+02,\n",
              "       7.74417311e+01, 2.03157860e+02, 4.90288971e+02, 1.75544289e+02,\n",
              "       5.12635291e+02, 5.41024115e+02, 2.75383325e+02, 5.27593124e+02,\n",
              "       6.04753777e+01, 5.54527929e+02, 3.33199656e+01, 4.73884821e+02,\n",
              "       2.80526746e+02, 1.34424386e+02, 1.37350543e+02, 4.18353371e+02,\n",
              "       2.89403530e+02, 1.20519924e+01, 2.52480397e+02, 1.87064792e+02,\n",
              "       2.06438422e+02, 2.91745585e+02, 1.31919477e+02, 5.37379650e+02,\n",
              "       6.07185985e+02, 4.83079801e+02, 3.77276191e+02, 3.36771537e+01,\n",
              "       5.41849225e+02, 6.49533298e+02, 4.46351496e+02, 4.04539270e+02,\n",
              "       2.54837590e+02, 6.51963979e+02, 5.77574956e+02, 3.86278686e+02,\n",
              "       2.62357062e+02, 4.01369328e+01, 5.06631268e+02, 2.38760219e+02,\n",
              "       3.50950897e+02, 1.67142770e+02, 3.25052632e+02, 6.88058719e+02,\n",
              "       6.57165760e+02, 1.20859402e+01, 1.53822970e+02, 6.02553668e+01,\n",
              "       6.00882838e+02, 1.00321536e+02, 2.80150718e+02, 5.19133898e+02,\n",
              "       6.53150252e+02, 3.57047134e+02, 6.11350708e+02, 6.26316223e+02,\n",
              "       6.41965218e+02, 6.35377394e+02, 1.41892779e+02, 5.72247985e+02,\n",
              "       2.07334595e+02, 1.77945666e+02, 1.97625364e+02, 2.69787702e+02,\n",
              "       7.24260565e+01, 3.97988388e+02, 5.21815854e+01, 2.91852293e+02,\n",
              "       4.63013643e+02, 1.04885453e+01, 1.74395346e+02, 4.73921143e+02,\n",
              "       6.60121740e+02, 2.30523200e+02, 1.42322318e+02, 3.83165784e+02,\n",
              "       4.16177968e+02, 1.82736189e+00, 4.56895696e+02, 5.63611940e+02,\n",
              "       6.50145693e+02, 1.66102586e+02, 8.76479623e+01, 5.52242979e+02,\n",
              "       1.67866474e+02, 7.45360725e+02, 7.07921439e+02, 7.03504201e+01,\n",
              "       5.00662676e+02, 1.55272319e+02, 5.94299781e+02, 2.18551749e+02,\n",
              "       3.19812360e+02, 6.41514642e+02, 8.67986551e+01, 2.02698365e+02,\n",
              "       7.23194834e+02, 7.64051303e+02, 4.28806774e+02, 5.92097272e+02,\n",
              "       7.46753477e+02, 4.60301978e+02, 7.04272506e+02, 3.91472457e+02,\n",
              "       2.73130054e+02, 9.12239435e+01, 5.23250750e+02, 1.35459844e+02,\n",
              "       2.59295099e+02, 4.05501496e+02, 3.32840106e+01, 2.88378714e+02,\n",
              "       2.41976472e+02, 4.91705417e+02, 3.18780808e+02, 3.91496344e+02,\n",
              "       7.72333057e+02, 6.17189703e+02, 1.70786783e+01, 4.08151718e+02,\n",
              "       3.89040207e+02, 2.81308395e+02, 4.97008314e+02, 5.26789033e+01,\n",
              "       9.39439655e+00, 3.73229316e+02, 5.53717993e+02, 1.92107750e+02,\n",
              "       3.33302261e+02, 1.29159152e+02, 1.49793319e+02, 7.81968734e+02,\n",
              "       4.05607988e+02, 1.43065738e+02, 2.38303893e+02, 4.36987843e+02,\n",
              "       1.83524567e+01, 6.09960056e+02, 5.61790331e+02, 2.05112084e+02,\n",
              "       2.95290627e+02, 2.67568959e+02, 8.43523944e+01, 1.75805538e+02,\n",
              "       1.23739496e+01, 6.31743646e+02, 1.26405985e+02, 1.14554561e+01,\n",
              "       2.92085745e+02, 4.00745919e+02, 2.34600314e+02, 8.09575951e+02,\n",
              "       6.16199919e+02, 1.72201510e+02, 1.17400701e+02, 7.60198409e+02,\n",
              "       1.48493707e+01, 7.99513207e+02, 5.73570429e+02, 1.31648687e+02,\n",
              "       6.25568529e+02, 1.88042145e+01, 1.49032690e+01, 5.10733362e+02,\n",
              "       2.83585739e+02, 1.99135222e+02, 2.52394137e+02, 1.13707191e+02,\n",
              "       7.53631153e+02, 7.01237801e+02, 8.08422893e+01, 3.36315676e+02,\n",
              "       2.22861963e+02, 5.00925588e+01, 6.71673004e+02, 6.94364149e+02,\n",
              "       5.78973093e+02, 2.16043163e+02, 6.80202306e+02, 7.76047050e+02,\n",
              "       3.21935221e+02, 6.90180810e+02, 6.45814663e+02, 6.85094907e+02,\n",
              "       2.03437112e+02, 6.74567617e+02, 5.54559306e+01, 9.67298773e+01,\n",
              "       7.09703741e+01, 7.09526732e+02, 5.72162265e+02, 2.24020595e+02,\n",
              "       6.57882809e+02, 8.01974695e+02, 2.72409184e+02, 2.79323853e+02,\n",
              "       7.67827349e+02, 2.15577008e+02, 7.78424006e+02, 5.22786862e+02,\n",
              "       6.18634320e+02, 1.95070725e+02, 3.02446732e+02, 7.16127403e+02,\n",
              "       4.81112846e+02, 9.53330198e+01, 8.60790294e+02, 3.91847816e+01,\n",
              "       5.54827523e+02, 6.31872656e+02, 2.65970494e+02, 2.86475588e+02,\n",
              "       6.18134605e+02, 3.35443427e+02, 5.27360027e+02, 2.45030057e+02,\n",
              "       7.22881997e+02, 3.55102006e+02, 5.91774386e+02, 5.28159788e+02,\n",
              "       1.64066537e+02, 2.89186710e+02, 6.73980972e+02, 3.79637455e+02,\n",
              "       7.93575474e+02, 1.12394585e+02, 4.47779439e+01, 7.56270180e+01,\n",
              "       8.37139497e+02, 1.74278468e+02, 1.40696644e+01, 7.18419594e+02,\n",
              "       5.07114536e+02, 4.78447322e+02, 4.38674807e+02, 5.04143072e+02,\n",
              "       2.56112519e+02, 8.98360892e+01, 4.16264273e+02, 3.66625630e+02,\n",
              "       1.11428784e+02, 3.73282656e+02, 6.73902229e+02, 4.95679973e+02,\n",
              "       8.65555368e+02, 8.26437939e+02, 1.44713880e+02, 6.23756609e+02,\n",
              "       7.87826335e+02, 9.27921185e+00, 1.21077031e+02, 3.06893459e+01,\n",
              "       1.80231681e+02, 4.24368686e+02, 5.81171573e+02, 2.96264954e+02,\n",
              "       5.68042040e+01, 7.18783805e+02, 1.62140412e+02, 9.05168092e+02,\n",
              "       4.54283732e+01, 1.18024658e+02, 1.66573091e+02, 7.20077002e+02,\n",
              "       8.22921730e+02, 1.69152229e+01, 2.60970931e+02, 6.10923611e+02,\n",
              "       7.46857385e+02, 4.45058060e+02, 5.10485805e+02, 5.91977104e+02,\n",
              "       4.19267927e+02, 5.14841726e+02, 9.80162291e+01, 6.33526602e+02,\n",
              "       9.47448006e+01, 6.56935251e+00, 1.55890430e+02, 9.30486137e+02,\n",
              "       5.58508089e+02, 6.05003912e+02, 8.43627113e+02, 4.33800944e+02,\n",
              "       4.49588686e+02, 5.22857073e+01, 4.95503066e+02, 4.56276233e+02,\n",
              "       3.79779834e+02, 6.02584071e+02, 9.26553954e+00, 4.53970290e+02,\n",
              "       8.58137281e+02, 3.85514338e+02, 9.61611997e+02, 5.06041998e+02,\n",
              "       8.67561058e+02, 4.39811474e+02, 8.99046110e+02, 3.94383638e+02,\n",
              "       8.44134688e+02, 2.90219860e+02, 6.72715532e+02, 1.42756390e+02,\n",
              "       4.57681864e+02, 4.61249048e+02, 1.20268267e+02, 6.28405276e+02,\n",
              "       6.99041350e+02, 7.71835209e+02, 2.00445615e+02, 8.32306383e+02,\n",
              "       4.23864558e+02, 5.12990327e+02, 6.74222356e+02, 3.99523383e+02,\n",
              "       4.34036399e+02, 8.86816775e+02, 8.31006774e+02, 3.06289828e+02,\n",
              "       6.04859551e+02, 3.33767836e+02, 6.51263278e+02, 9.07119312e+02,\n",
              "       3.24141254e+02, 6.96847913e+02, 1.13780134e+02, 2.11563973e+01,\n",
              "       1.16317413e+02, 2.41407374e+02, 4.99737366e+02, 5.37216784e+02])"
            ]
          },
          "metadata": {
            "tags": []
          },
          "execution_count": 34
        }
      ]
    },
    {
      "cell_type": "markdown",
      "metadata": {
        "id": "H65MTuXCUNoH",
        "colab_type": "text"
      },
      "source": [
        "We now have sales prices for 1000 items currently for sale at BuyStuff. Now create an RDD called `price_items` using the newly created data with 10 slices. After you create it, use one of the basic actions to see what's in the RDD."
      ]
    },
    {
      "cell_type": "code",
      "metadata": {
        "id": "coUPbH4iUNoI",
        "colab_type": "code",
        "colab": {
          "base_uri": "https://localhost:8080/",
          "height": 34
        },
        "outputId": "2ffbf7b5-2e03-4d70-e7c8-121fabe20f53"
      },
      "source": [
        "price_items = sc.parallelize(sales_figures, numSlices=10)\n",
        "price_items.take(4)"
      ],
      "execution_count": 35,
      "outputs": [
        {
          "output_type": "execute_result",
          "data": {
            "text/plain": [
              "[0.3939281307108007, 1.5094276663589812, 1.8558433402773087, 2.80605310459775]"
            ]
          },
          "metadata": {
            "tags": []
          },
          "execution_count": 35
        }
      ]
    },
    {
      "cell_type": "markdown",
      "metadata": {
        "id": "oCV9JuUPUNoK",
        "colab_type": "text"
      },
      "source": [
        "Now let's perform some operations on this simple dataset. To begin with, create a function that will take into account how much money BuyStuff will receive after sales tax has been applied (assume a sales tax of 8%). To make this happen, create a function called `sales_tax()` that returns the amount of money our company will receive after the sales tax has been applied. The function will have this parameter:\n",
        "\n",
        "* `item`: (float) number to be multiplied by the sales tax.\n",
        "\n",
        "\n",
        "Apply that function to the rdd by using the `.map()` method and assign it to a variable `renenue_minus_tax`"
      ]
    },
    {
      "cell_type": "code",
      "metadata": {
        "id": "3Dbg1WRQUNoK",
        "colab_type": "code",
        "colab": {
          "base_uri": "https://localhost:8080/",
          "height": 34
        },
        "outputId": "4cc3f206-92c3-4779-9aa9-c3504e61f67d"
      },
      "source": [
        "def sales_tax(num):\n",
        "    return num*0.92\n",
        "\n",
        "revenue_minus_tax = price_items.map(sales_tax)\n",
        "revenue_minus_tax"
      ],
      "execution_count": 37,
      "outputs": [
        {
          "output_type": "execute_result",
          "data": {
            "text/plain": [
              "PythonRDD[10] at RDD at PythonRDD.scala:53"
            ]
          },
          "metadata": {
            "tags": []
          },
          "execution_count": 37
        }
      ]
    },
    {
      "cell_type": "markdown",
      "metadata": {
        "id": "6zzhmAXYUNoN",
        "colab_type": "text"
      },
      "source": [
        "Remember, Spark has __lazy evaluation__, which means that the `sales_tax()` function is a transformer that is not executed until you call an action. Use one of the collection methods to execute the transformer now a part of the RDD and observe the contents of the `revenue_minus_tax` rdd."
      ]
    },
    {
      "cell_type": "code",
      "metadata": {
        "scrolled": true,
        "id": "bcFlHddYUNoN",
        "colab_type": "code",
        "colab": {
          "base_uri": "https://localhost:8080/",
          "height": 187
        },
        "outputId": "8b5a1463-fe17-4c56-dfbf-388f480dad2c"
      },
      "source": [
        "# perform action to retrieve rdd values\n",
        "revenue_minus_tax.take(10)\n"
      ],
      "execution_count": 38,
      "outputs": [
        {
          "output_type": "execute_result",
          "data": {
            "text/plain": [
              "[0.36241388025393667,\n",
              " 1.3886734530502627,\n",
              " 1.707375873055124,\n",
              " 2.58156885622993,\n",
              " 4.398098895947657,\n",
              " 4.889029611366141,\n",
              " 3.498249830757779,\n",
              " 0.9305801603964347,\n",
              " 8.187306712876552,\n",
              " 6.712003403901118]"
            ]
          },
          "metadata": {
            "tags": []
          },
          "execution_count": 38
        }
      ]
    },
    {
      "cell_type": "markdown",
      "metadata": {
        "id": "uPmGw8qvUNoQ",
        "colab_type": "text"
      },
      "source": [
        "### Lambda Functions\n",
        "\n",
        "Note that you can also use lambda functions if you want to quickly perform simple operations on data without creating a function. Let's assume that BuyStuff has also decided to offer a 10% discount on all of their items on the pre-tax amounts of each item. Use a lambda function within a `.map()` method to apply the additional 10% loss in revenue for BuyStuff and assign the transformed RDD to a new RDD called `discounted`."
      ]
    },
    {
      "cell_type": "code",
      "metadata": {
        "id": "pldbU2GkUNoR",
        "colab_type": "code",
        "colab": {
          "base_uri": "https://localhost:8080/",
          "height": 34
        },
        "outputId": "1825c4bf-ca11-45a0-e0a2-1bf38e3f7c0e"
      },
      "source": [
        "discounted = price_items.map(lambda x:0.9*x)\n",
        "discounted.count()"
      ],
      "execution_count": 51,
      "outputs": [
        {
          "output_type": "execute_result",
          "data": {
            "text/plain": [
              "1000"
            ]
          },
          "metadata": {
            "tags": []
          },
          "execution_count": 51
        }
      ]
    },
    {
      "cell_type": "code",
      "metadata": {
        "scrolled": true,
        "id": "MCP0rBHjUNoS",
        "colab_type": "code",
        "colab": {
          "base_uri": "https://localhost:8080/",
          "height": 187
        },
        "outputId": "40c4657b-a2c2-4444-ad51-3c87fe968174"
      },
      "source": [
        "discounted.take(10)"
      ],
      "execution_count": 42,
      "outputs": [
        {
          "output_type": "execute_result",
          "data": {
            "text/plain": [
              "[0.3545353176397206,\n",
              " 1.3584848997230832,\n",
              " 1.670259006249578,\n",
              " 2.525447794137975,\n",
              " 4.302488050383577,\n",
              " 4.782746358945137,\n",
              " 3.4222009213934794,\n",
              " 0.9103501569095557,\n",
              " 8.009321784335757,\n",
              " 6.566090286425007]"
            ]
          },
          "metadata": {
            "tags": []
          },
          "execution_count": 42
        }
      ]
    },
    {
      "cell_type": "markdown",
      "metadata": {
        "id": "FZRadknzUNoV",
        "colab_type": "text"
      },
      "source": [
        "## Chaining Methods\n",
        "\n",
        "You are also able to chain methods together with Spark. In one line, remove the tax and discount from the revenue of BuyStuff and use a collection method to see the 15 costliest items."
      ]
    },
    {
      "cell_type": "code",
      "metadata": {
        "scrolled": true,
        "id": "641BrrEcUNoV",
        "colab_type": "code",
        "colab": {
          "base_uri": "https://localhost:8080/",
          "height": 272
        },
        "outputId": "2b5b55e6-197d-487f-9712-56997e85f63a"
      },
      "source": [
        "price_items.map(sales_tax).map(lambda x : x*0.9).top(15)\n"
      ],
      "execution_count": 43,
      "outputs": [
        {
          "output_type": "execute_result",
          "data": {
            "text/plain": [
              "[796.2147333929859,\n",
              " 770.4425215053794,\n",
              " 751.0947906992728,\n",
              " 749.4791802722693,\n",
              " 744.4101787666149,\n",
              " 734.2842900481018,\n",
              " 718.3405563284479,\n",
              " 716.6798449771912,\n",
              " 712.7343634940011,\n",
              " 710.5376684223185,\n",
              " 698.9435220355577,\n",
              " 698.5232497195992,\n",
              " 693.1515038919542,\n",
              " 689.1496849129852,\n",
              " 688.0736091116239]"
            ]
          },
          "metadata": {
            "tags": []
          },
          "execution_count": 43
        }
      ]
    },
    {
      "cell_type": "markdown",
      "metadata": {
        "id": "wAWU57oUUNoX",
        "colab_type": "text"
      },
      "source": [
        "## RDD Lineage\n",
        "\n",
        "\n",
        "We are able to see the full lineage of all the operations that have been performed on an RDD by using the `RDD.toDebugString()` method. As your transformations become more complex, you are encouraged to call this method to get a better understanding of the dependencies between RDDs. Try calling it on the `discounted` RDD to see what RDDs it is dependent on."
      ]
    },
    {
      "cell_type": "code",
      "metadata": {
        "id": "1P6TI9CBUNoY",
        "colab_type": "code",
        "colab": {
          "base_uri": "https://localhost:8080/",
          "height": 34
        },
        "outputId": "d4a90d04-d2ed-463a-8745-1edc9e629741"
      },
      "source": [
        "price_items.toDebugString()"
      ],
      "execution_count": 44,
      "outputs": [
        {
          "output_type": "execute_result",
          "data": {
            "text/plain": [
              "b'(10) ParallelCollectionRDD[8] at parallelize at PythonRDD.scala:195 []'"
            ]
          },
          "metadata": {
            "tags": []
          },
          "execution_count": 44
        }
      ]
    },
    {
      "cell_type": "markdown",
      "metadata": {
        "id": "Vqdt9PZYUNoa",
        "colab_type": "text"
      },
      "source": [
        "### Map vs. Flatmap\n",
        "\n",
        "Depending on how you want your data to be outputted, you might want to use `.flatMap()` rather than a simple `.map()`. Let's take a look at how it performs operations versus the standard map. Let's say we wanted to maintain the original amount BuyStuff receives for each item as well as the new amount after the tax and discount are applied. Create a map function that will return a tuple with (original price, post-discount price)."
      ]
    },
    {
      "cell_type": "code",
      "metadata": {
        "id": "Ttx7GfvsUNoa",
        "colab_type": "code",
        "colab": {
          "base_uri": "https://localhost:8080/",
          "height": 71
        },
        "outputId": "b25e7673-9798-4560-c20e-f6c60109a863"
      },
      "source": [
        "mapped = price_items.map(lambda x: (x, x*0.92 *0.9))\n",
        "print(mapped.count())\n",
        "print(mapped.take(10))"
      ],
      "execution_count": 45,
      "outputs": [
        {
          "output_type": "stream",
          "text": [
            "1000\n",
            "[(0.3939281307108007, 0.326172492228543), (1.5094276663589812, 1.2498061077452365), (1.8558433402773087, 1.5366382857496117), (2.80605310459775, 2.323411970606937), (4.780542278203974, 3.958289006352891), (5.314162621050152, 4.400126650229526), (3.802445468214977, 3.148424847682001), (1.0115001743439507, 0.8375221443567912), (8.89924642703973, 7.368576041588897), (7.295655873805563, 6.040803063511007)]\n"
          ],
          "name": "stdout"
        }
      ]
    },
    {
      "cell_type": "markdown",
      "metadata": {
        "id": "ZcyuKruNUNoc",
        "colab_type": "text"
      },
      "source": [
        "Note that we have 1000 tuples created to our specification. Let's take a look at how `.flatMap()` differs in its implementation. Use the `.flatMap()` method with the same function you created above."
      ]
    },
    {
      "cell_type": "code",
      "metadata": {
        "id": "20XUMhUYUNoc",
        "colab_type": "code",
        "colab": {
          "base_uri": "https://localhost:8080/",
          "height": 71
        },
        "outputId": "1b72558f-a52a-4a22-d8ee-1ee17c98b14d"
      },
      "source": [
        "flat_mapped = price_items.flatMap(lambda x: (x, x*0.92 *0.9))\n",
        "print(flat_mapped.count())\n",
        "print(flat_mapped.take(10))"
      ],
      "execution_count": 46,
      "outputs": [
        {
          "output_type": "stream",
          "text": [
            "2000\n",
            "[0.3939281307108007, 0.326172492228543, 1.5094276663589812, 1.2498061077452365, 1.8558433402773087, 1.5366382857496117, 2.80605310459775, 2.323411970606937, 4.780542278203974, 3.958289006352891]\n"
          ],
          "name": "stdout"
        }
      ]
    },
    {
      "cell_type": "markdown",
      "metadata": {
        "id": "avJ7tNkBUNoe",
        "colab_type": "text"
      },
      "source": [
        "Rather than being represented by tuples, all of the  values are now on the same level. When we are trying to combine different items together, it is sometimes necessary to use `.flatMap()` rather than `.map()` in order to properly reduce to our specifications. This is not one of those instances, but in the upcoming lab, you just might have to use it."
      ]
    },
    {
      "cell_type": "markdown",
      "metadata": {
        "id": "vLd7IRZZUNof",
        "colab_type": "text"
      },
      "source": [
        "## Filter\n",
        "After meeting with some external consultants, BuyStuff has determined that its business will be more profitable if it focuses on higher ticket items. Now, use the `.filter()` method to select items that bring in more than $300 after tax and discount have been removed. A filter method is a specialized form of a map function that only returns the items that match a certain criterion. In the cell below:\n",
        "* use a lambda function within a `.filter()` method to meet the consultant's suggestion's specifications. set `RDD = selected_items`\n",
        "* calculate the total number of items remaining in BuyStuff's inventory"
      ]
    },
    {
      "cell_type": "code",
      "metadata": {
        "id": "6ocI6OglUNof",
        "colab_type": "code",
        "colab": {
          "base_uri": "https://localhost:8080/",
          "height": 34
        },
        "outputId": "2a7df46a-5c6b-424f-bc09-54a110bbb991"
      },
      "source": [
        "selected_items = discounted.filter(lambda x: x>300)\n",
        "selected_items.count()"
      ],
      "execution_count": 50,
      "outputs": [
        {
          "output_type": "execute_result",
          "data": {
            "text/plain": [
              "286"
            ]
          },
          "metadata": {
            "tags": []
          },
          "execution_count": 50
        }
      ]
    },
    {
      "cell_type": "markdown",
      "metadata": {
        "id": "aYsPqQpYUNoh",
        "colab_type": "text"
      },
      "source": [
        "## Reduce\n",
        "\n",
        "Reduce functions are where you are in some way combing all of the variables that you have mapped out. Here is an example of how a reduce function works when the task is to sum all values:\n",
        "\n",
        "<img src = \"./images/reduce_function.png\" width = \"600\">  \n",
        "\n",
        "\n",
        "As you can see, the operation is performed within each partition first, after which, the results of the computations in each partition are combined to come up with one final answer.  \n",
        "\n",
        "Now it's time to figure out how much money BuyStuff would make from selling one of all of its items after they've reduced their inventory. Use the `.reduce()` method with a lambda function to add up all of the values in the RDD. Your lambda function should have two variables. "
      ]
    },
    {
      "cell_type": "code",
      "metadata": {
        "id": "ID8j0gJeUNoh",
        "colab_type": "code",
        "colab": {
          "base_uri": "https://localhost:8080/",
          "height": 34
        },
        "outputId": "2c28bee6-25c1-4f21-ad3f-bec53f965934"
      },
      "source": [
        "selected_items.reduce(lambda x,y: x + y)\n"
      ],
      "execution_count": 52,
      "outputs": [
        {
          "output_type": "execute_result",
          "data": {
            "text/plain": [
              "138574.54356452645"
            ]
          },
          "metadata": {
            "tags": []
          },
          "execution_count": 52
        }
      ]
    },
    {
      "cell_type": "markdown",
      "metadata": {
        "id": "kQTgFQZLUNok",
        "colab_type": "text"
      },
      "source": [
        "The time has come for BuyStuff to open up shop and start selling its goods. It only has one of each item, but it's allowing 50 lucky users to buy as many items as they want while they remain in stock. Within seconds, BuyStuff is sold out. Below, you'll find the sales data in an RDD with tuples of (user, item bought)."
      ]
    },
    {
      "cell_type": "code",
      "metadata": {
        "id": "CMm82D5HUNok",
        "colab_type": "code",
        "colab": {
          "base_uri": "https://localhost:8080/",
          "height": 136
        },
        "outputId": "4489ebdf-82ae-406c-8672-0f2c39c90338"
      },
      "source": [
        "import random\n",
        "random.seed(42)\n",
        "# generating simulated users that have bought each item\n",
        "sales_data = selected_items.map(lambda x: (random.randint(1, 50), x))\n",
        "\n",
        "sales_data.take(7)"
      ],
      "execution_count": 53,
      "outputs": [
        {
          "output_type": "execute_result",
          "data": {
            "text/plain": [
              "[(42, 303.839786720822),\n",
              " (43, 305.8462050570233),\n",
              " (7, 317.4951351253698),\n",
              " (12, 322.1369333601892),\n",
              " (33, 320.8667169101951),\n",
              " (18, 326.8899128874424),\n",
              " (48, 334.7869376878819)]"
            ]
          },
          "metadata": {
            "tags": []
          },
          "execution_count": 53
        }
      ]
    },
    {
      "cell_type": "markdown",
      "metadata": {
        "id": "n6N2wLMuUNom",
        "colab_type": "text"
      },
      "source": [
        "It's time to determine some basic statistics about BuyStuff users.\n",
        "\n",
        "Let's start off by creating an RDD that determines how much each user spent in total.\n",
        "To do this we can use a method called `.reduceByKey()` to perform reducing operations while grouping by keys. After you have calculated the total, use the `.sortBy()` method on the RDD to rank the users from the highest spending to the least spending. "
      ]
    },
    {
      "cell_type": "code",
      "metadata": {
        "id": "vSPEi7SWUNom",
        "colab_type": "code",
        "colab": {
          "base_uri": "https://localhost:8080/",
          "height": 187
        },
        "outputId": "448de7a6-4a7a-4b5d-fe11-40d3fc0c84c1"
      },
      "source": [
        "# calculate how much each user spent\n",
        "total_spent = sales_data.reduceByKey(lambda x, y: x + y)\n",
        "total_spent.take(10)"
      ],
      "execution_count": 54,
      "outputs": [
        {
          "output_type": "execute_result",
          "data": {
            "text/plain": [
              "[(20, 2550.62167010829),\n",
              " (40, 5329.892233205175),\n",
              " (50, 2125.161568465289),\n",
              " (10, 1648.705259073352),\n",
              " (30, 884.1275149021747),\n",
              " (41, 6467.923916367787),\n",
              " (31, 4066.897397390192),\n",
              " (11, 2249.2303672309895),\n",
              " (1, 2374.647489040058),\n",
              " (21, 1176.6334614527518)]"
            ]
          },
          "metadata": {
            "tags": []
          },
          "execution_count": 54
        }
      ]
    },
    {
      "cell_type": "code",
      "metadata": {
        "id": "ZeYzswSrUNon",
        "colab_type": "code",
        "colab": {
          "base_uri": "https://localhost:8080/",
          "height": 816
        },
        "outputId": "f0174b4a-5332-42fb-bf57-a3073e57f667"
      },
      "source": [
        "# sort the users from highest to lowest spenders\n",
        "total_spent.sortBy(lambda x: x[1],ascending = False).collect()\n"
      ],
      "execution_count": 55,
      "outputs": [
        {
          "output_type": "execute_result",
          "data": {
            "text/plain": [
              "[(48, 6760.551400801929),\n",
              " (41, 6467.923916367787),\n",
              " (33, 5921.934984531346),\n",
              " (44, 5408.487017223314),\n",
              " (40, 5329.892233205175),\n",
              " (29, 4649.261269696228),\n",
              " (24, 4577.34034123956),\n",
              " (39, 4306.754062236549),\n",
              " (47, 4259.512021230312),\n",
              " (31, 4066.897397390192),\n",
              " (38, 3761.6133466770793),\n",
              " (14, 3725.1742241285287),\n",
              " (42, 3710.513851125879),\n",
              " (27, 3663.7550434359587),\n",
              " (28, 3655.957720331094),\n",
              " (43, 3577.937890884301),\n",
              " (34, 3467.6428724687435),\n",
              " (2, 3384.173078334071),\n",
              " (17, 2852.447474972595),\n",
              " (8, 2847.324992527453),\n",
              " (16, 2797.5762806918865),\n",
              " (25, 2690.910962795764),\n",
              " (26, 2610.362550964748),\n",
              " (20, 2550.62167010829),\n",
              " (35, 2428.3531599310836),\n",
              " (1, 2374.647489040058),\n",
              " (49, 2366.687906939614),\n",
              " (11, 2249.2303672309895),\n",
              " (6, 2206.8207839784245),\n",
              " (50, 2125.161568465289),\n",
              " (23, 2106.2973593045544),\n",
              " (46, 2094.3183205861747),\n",
              " (12, 2084.5532638627938),\n",
              " (15, 2067.722976228968),\n",
              " (9, 1944.2104715923297),\n",
              " (37, 1874.5289496613143),\n",
              " (18, 1822.1427904132777),\n",
              " (19, 1777.8407286228164),\n",
              " (5, 1766.1555980031344),\n",
              " (36, 1724.8879629091325),\n",
              " (10, 1648.705259073352),\n",
              " (45, 1512.9015454578566),\n",
              " (22, 1179.5023724910538),\n",
              " (21, 1176.6334614527518),\n",
              " (7, 1090.301740512866),\n",
              " (4, 1024.2453704976515),\n",
              " (30, 884.1275149021747)]"
            ]
          },
          "metadata": {
            "tags": []
          },
          "execution_count": 55
        }
      ]
    },
    {
      "cell_type": "markdown",
      "metadata": {
        "id": "l7HAsj0IUNoq",
        "colab_type": "text"
      },
      "source": [
        "Next, let's determine how many items were bought per user. This can be solved in one line using an RDD method. After you've counted the total number of items bought per person, sort the users from most number of items bought to least number of items. Time to start a customer loyalty program!"
      ]
    },
    {
      "cell_type": "code",
      "metadata": {
        "id": "F4uUgT84UNoq",
        "colab_type": "code",
        "colab": {
          "base_uri": "https://localhost:8080/",
          "height": 867
        },
        "outputId": "70b9da7b-8fc5-4fd5-b520-d84b9ab98122"
      },
      "source": [
        "total_items = sales_data.countByKey()\n",
        "sorted(total_items.items(),key=lambda kv:kv[1],reverse=True)"
      ],
      "execution_count": 56,
      "outputs": [
        {
          "output_type": "execute_result",
          "data": {
            "text/plain": [
              "[(28, 14),\n",
              " (25, 11),\n",
              " (44, 10),\n",
              " (40, 10),\n",
              " (36, 10),\n",
              " (50, 9),\n",
              " (17, 9),\n",
              " (6, 8),\n",
              " (41, 8),\n",
              " (30, 8),\n",
              " (22, 8),\n",
              " (8, 8),\n",
              " (26, 7),\n",
              " (39, 7),\n",
              " (49, 7),\n",
              " (43, 7),\n",
              " (23, 7),\n",
              " (4, 7),\n",
              " (48, 6),\n",
              " (13, 6),\n",
              " (32, 6),\n",
              " (1, 6),\n",
              " (21, 6),\n",
              " (16, 5),\n",
              " (10, 5),\n",
              " (46, 5),\n",
              " (18, 5),\n",
              " (38, 5),\n",
              " (34, 5),\n",
              " (37, 4),\n",
              " (2, 4),\n",
              " (7, 4),\n",
              " (24, 4),\n",
              " (29, 4),\n",
              " (33, 4),\n",
              " (15, 4),\n",
              " (9, 4),\n",
              " (14, 4),\n",
              " (12, 4),\n",
              " (45, 4),\n",
              " (27, 4),\n",
              " (31, 3),\n",
              " (3, 3),\n",
              " (19, 3),\n",
              " (5, 3),\n",
              " (20, 3),\n",
              " (11, 2),\n",
              " (47, 2),\n",
              " (42, 2),\n",
              " (35, 2)]"
            ]
          },
          "metadata": {
            "tags": []
          },
          "execution_count": 56
        }
      ]
    },
    {
      "cell_type": "markdown",
      "metadata": {
        "id": "-GDIot1HUNor",
        "colab_type": "text"
      },
      "source": [
        "### Additional Reading\n",
        "\n",
        "- [The original paper on RDDs](https://cs.stanford.edu/~matei/papers/2012/nsdi_spark.pdf)\n",
        "- [RDDs in Apache Spark](https://data-flair.training/blogs/create-rdds-in-apache-spark/)\n",
        "- [Programming with RDDs](https://runawayhorse001.github.io/LearningApacheSpark/rdd.html)\n",
        "- [RDD Transformations and Actions Summary](https://www.analyticsvidhya.com/blog/2016/10/using-pyspark-to-perform-transformations-and-actions-on-rdd/)"
      ]
    },
    {
      "cell_type": "markdown",
      "metadata": {
        "id": "I8yKdTydUNos",
        "colab_type": "text"
      },
      "source": [
        "## Summary\n",
        "\n",
        "In this lab we went through a brief introduction to RDD creation from a Python collection, setting a number of logical partitions for an RDD and extracting lineage. We also used transformations and actions to perform calculations across RDDs on a distributed setup. In the next lab, you'll get the chance to apply these transformations on different books to calculate word counts and various statistics.\n"
      ]
    }
  ]
}